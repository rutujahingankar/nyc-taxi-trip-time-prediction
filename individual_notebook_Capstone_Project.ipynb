{
  "cells": [
    {
      "cell_type": "markdown",
      "metadata": {
        "id": "view-in-github",
        "colab_type": "text"
      },
      "source": [
        "<a href=\"https://colab.research.google.com/github/rutujahingankar/nyc-taxi-trip-time-prediction/blob/main/individual_notebook_Capstone_Project.ipynb\" target=\"_parent\"><img src=\"https://colab.research.google.com/assets/colab-badge.svg\" alt=\"Open In Colab\"/></a>"
      ]
    },
    {
      "cell_type": "markdown",
      "metadata": {
        "id": "tOGC-qoyhJeX"
      },
      "source": [
        "# <b><u> Project Title : Taxi trip time Prediction : Predicting total ride duration of taxi trips in New York City</u></b>"
      ]
    },
    {
      "cell_type": "markdown",
      "metadata": {
        "id": "Y06xIdG26kRF"
      },
      "source": [
        "## <b> Problem Description </b>\n",
        "\n",
        "### Your task is to build a model that predicts the total ride duration of taxi trips in New York City. Your primary dataset is one released by the NYC Taxi and Limousine Commission, which includes pickup time, geo-coordinates, number of passengers, and several other variables."
      ]
    },
    {
      "cell_type": "markdown",
      "metadata": {
        "id": "WWeU1f9bwqQq"
      },
      "source": [
        "## <b> Data Description </b>\n",
        "\n",
        "### The dataset is based on the 2016 NYC Yellow Cab trip record data made available in Big Query on Google Cloud Platform. The data was originally published by the NYC Taxi and Limousine Commission (TLC). The data was sampled and cleaned for the purposes of this project. Based on individual trip attributes, you should predict the duration of each trip in the test set.\n",
        "\n",
        "### <b>NYC Taxi Data.csv</b> - the training set (contains 1458644 trip records)\n",
        "\n",
        "\n",
        "### Data fields\n",
        "* #### id - a unique identifier for each trip\n",
        "* #### vendor_id - a code indicating the provider associated with the trip record\n",
        "* #### pickup_datetime - date and time when the meter was engaged\n",
        "* #### dropoff_datetime - date and time when the meter was disengaged\n",
        "* #### passenger_count - the number of passengers in the vehicle (driver entered value)\n",
        "* #### pickup_longitude - the longitude where the meter was engaged\n",
        "* #### pickup_latitude - the latitude where the meter was engaged\n",
        "* #### dropoff_longitude - the longitude where the meter was disengaged\n",
        "* #### dropoff_latitude - the latitude where the meter was disengaged\n",
        "* #### store_and_fwd_flag - This flag indicates whether the trip record was held in vehicle memory before sending to the vendor because the vehicle did not have a connection to the server - Y=store and forward; N=not a store and forward trip\n",
        "* #### trip_duration - duration of the trip in seconds"
      ]
    },
    {
      "cell_type": "markdown",
      "metadata": {
        "id": "EriIBOhGgui4"
      },
      "source": [
        "#Loading Dataset"
      ]
    },
    {
      "cell_type": "code",
      "execution_count": null,
      "metadata": {
        "id": "dByMsuzT8Tnw"
      },
      "outputs": [],
      "source": [
        "#importing required packages\n",
        "\n",
        "import numpy as np \n",
        "import pandas as pd\n",
        "import matplotlib.pyplot as plt\n",
        "%matplotlib inline\n",
        "import seaborn as sns\n",
        "from scipy import stats\n",
        "from pandas.tseries.holiday import USFederalHolidayCalendar\n",
        "from sklearn.cluster import KMeans\n",
        "from sklearn.model_selection import train_test_split\n",
        "from sklearn.preprocessing import StandardScaler\n",
        "from sklearn.linear_model import LinearRegression\n",
        "from sklearn.metrics import r2_score\n",
        "from sklearn.model_selection import cross_val_score\n",
        "from sklearn.metrics import mean_squared_error\n",
        "from sklearn.tree import DecisionTreeRegressor "
      ]
    },
    {
      "cell_type": "code",
      "execution_count": null,
      "metadata": {
        "colab": {
          "base_uri": "https://localhost:8080/"
        },
        "id": "c-CEZl-zOHvK",
        "outputId": "5c2a3f4e-a6d1-4432-d91c-1b7129abf31f"
      },
      "outputs": [
        {
          "output_type": "stream",
          "name": "stdout",
          "text": [
            "Mounted at /content/drive\n"
          ]
        }
      ],
      "source": [
        "from google.colab import drive\n",
        "drive.mount('/content/drive')"
      ]
    },
    {
      "cell_type": "code",
      "execution_count": null,
      "metadata": {
        "id": "CeRAulBhOYTe"
      },
      "outputs": [],
      "source": [
        "#reading dataset\n",
        "df= pd.read_csv('/content/drive/MyDrive/NYC Taxi Data.csv')\n"
      ]
    },
    {
      "cell_type": "code",
      "execution_count": null,
      "metadata": {
        "id": "jL1nygUGOYVw",
        "colab": {
          "base_uri": "https://localhost:8080/",
          "height": 337
        },
        "outputId": "3f03f434-b8a4-4536-c75b-abd3f521fc8d"
      },
      "outputs": [
        {
          "output_type": "execute_result",
          "data": {
            "text/plain": [
              "          id  vendor_id      pickup_datetime     dropoff_datetime  \\\n",
              "0  id2875421          2  2016-03-14 17:24:55  2016-03-14 17:32:30   \n",
              "1  id2377394          1  2016-06-12 00:43:35  2016-06-12 00:54:38   \n",
              "2  id3858529          2  2016-01-19 11:35:24  2016-01-19 12:10:48   \n",
              "3  id3504673          2  2016-04-06 19:32:31  2016-04-06 19:39:40   \n",
              "4  id2181028          2  2016-03-26 13:30:55  2016-03-26 13:38:10   \n",
              "\n",
              "   passenger_count  pickup_longitude  pickup_latitude  dropoff_longitude  \\\n",
              "0                1        -73.982155        40.767937         -73.964630   \n",
              "1                1        -73.980415        40.738564         -73.999481   \n",
              "2                1        -73.979027        40.763939         -74.005333   \n",
              "3                1        -74.010040        40.719971         -74.012268   \n",
              "4                1        -73.973053        40.793209         -73.972923   \n",
              "\n",
              "   dropoff_latitude store_and_fwd_flag  trip_duration  \n",
              "0         40.765602                  N            455  \n",
              "1         40.731152                  N            663  \n",
              "2         40.710087                  N           2124  \n",
              "3         40.706718                  N            429  \n",
              "4         40.782520                  N            435  "
            ],
            "text/html": [
              "\n",
              "  <div id=\"df-ee6b629b-6aab-44d1-a82c-5fa5b64bcc1c\">\n",
              "    <div class=\"colab-df-container\">\n",
              "      <div>\n",
              "<style scoped>\n",
              "    .dataframe tbody tr th:only-of-type {\n",
              "        vertical-align: middle;\n",
              "    }\n",
              "\n",
              "    .dataframe tbody tr th {\n",
              "        vertical-align: top;\n",
              "    }\n",
              "\n",
              "    .dataframe thead th {\n",
              "        text-align: right;\n",
              "    }\n",
              "</style>\n",
              "<table border=\"1\" class=\"dataframe\">\n",
              "  <thead>\n",
              "    <tr style=\"text-align: right;\">\n",
              "      <th></th>\n",
              "      <th>id</th>\n",
              "      <th>vendor_id</th>\n",
              "      <th>pickup_datetime</th>\n",
              "      <th>dropoff_datetime</th>\n",
              "      <th>passenger_count</th>\n",
              "      <th>pickup_longitude</th>\n",
              "      <th>pickup_latitude</th>\n",
              "      <th>dropoff_longitude</th>\n",
              "      <th>dropoff_latitude</th>\n",
              "      <th>store_and_fwd_flag</th>\n",
              "      <th>trip_duration</th>\n",
              "    </tr>\n",
              "  </thead>\n",
              "  <tbody>\n",
              "    <tr>\n",
              "      <th>0</th>\n",
              "      <td>id2875421</td>\n",
              "      <td>2</td>\n",
              "      <td>2016-03-14 17:24:55</td>\n",
              "      <td>2016-03-14 17:32:30</td>\n",
              "      <td>1</td>\n",
              "      <td>-73.982155</td>\n",
              "      <td>40.767937</td>\n",
              "      <td>-73.964630</td>\n",
              "      <td>40.765602</td>\n",
              "      <td>N</td>\n",
              "      <td>455</td>\n",
              "    </tr>\n",
              "    <tr>\n",
              "      <th>1</th>\n",
              "      <td>id2377394</td>\n",
              "      <td>1</td>\n",
              "      <td>2016-06-12 00:43:35</td>\n",
              "      <td>2016-06-12 00:54:38</td>\n",
              "      <td>1</td>\n",
              "      <td>-73.980415</td>\n",
              "      <td>40.738564</td>\n",
              "      <td>-73.999481</td>\n",
              "      <td>40.731152</td>\n",
              "      <td>N</td>\n",
              "      <td>663</td>\n",
              "    </tr>\n",
              "    <tr>\n",
              "      <th>2</th>\n",
              "      <td>id3858529</td>\n",
              "      <td>2</td>\n",
              "      <td>2016-01-19 11:35:24</td>\n",
              "      <td>2016-01-19 12:10:48</td>\n",
              "      <td>1</td>\n",
              "      <td>-73.979027</td>\n",
              "      <td>40.763939</td>\n",
              "      <td>-74.005333</td>\n",
              "      <td>40.710087</td>\n",
              "      <td>N</td>\n",
              "      <td>2124</td>\n",
              "    </tr>\n",
              "    <tr>\n",
              "      <th>3</th>\n",
              "      <td>id3504673</td>\n",
              "      <td>2</td>\n",
              "      <td>2016-04-06 19:32:31</td>\n",
              "      <td>2016-04-06 19:39:40</td>\n",
              "      <td>1</td>\n",
              "      <td>-74.010040</td>\n",
              "      <td>40.719971</td>\n",
              "      <td>-74.012268</td>\n",
              "      <td>40.706718</td>\n",
              "      <td>N</td>\n",
              "      <td>429</td>\n",
              "    </tr>\n",
              "    <tr>\n",
              "      <th>4</th>\n",
              "      <td>id2181028</td>\n",
              "      <td>2</td>\n",
              "      <td>2016-03-26 13:30:55</td>\n",
              "      <td>2016-03-26 13:38:10</td>\n",
              "      <td>1</td>\n",
              "      <td>-73.973053</td>\n",
              "      <td>40.793209</td>\n",
              "      <td>-73.972923</td>\n",
              "      <td>40.782520</td>\n",
              "      <td>N</td>\n",
              "      <td>435</td>\n",
              "    </tr>\n",
              "  </tbody>\n",
              "</table>\n",
              "</div>\n",
              "      <button class=\"colab-df-convert\" onclick=\"convertToInteractive('df-ee6b629b-6aab-44d1-a82c-5fa5b64bcc1c')\"\n",
              "              title=\"Convert this dataframe to an interactive table.\"\n",
              "              style=\"display:none;\">\n",
              "        \n",
              "  <svg xmlns=\"http://www.w3.org/2000/svg\" height=\"24px\"viewBox=\"0 0 24 24\"\n",
              "       width=\"24px\">\n",
              "    <path d=\"M0 0h24v24H0V0z\" fill=\"none\"/>\n",
              "    <path d=\"M18.56 5.44l.94 2.06.94-2.06 2.06-.94-2.06-.94-.94-2.06-.94 2.06-2.06.94zm-11 1L8.5 8.5l.94-2.06 2.06-.94-2.06-.94L8.5 2.5l-.94 2.06-2.06.94zm10 10l.94 2.06.94-2.06 2.06-.94-2.06-.94-.94-2.06-.94 2.06-2.06.94z\"/><path d=\"M17.41 7.96l-1.37-1.37c-.4-.4-.92-.59-1.43-.59-.52 0-1.04.2-1.43.59L10.3 9.45l-7.72 7.72c-.78.78-.78 2.05 0 2.83L4 21.41c.39.39.9.59 1.41.59.51 0 1.02-.2 1.41-.59l7.78-7.78 2.81-2.81c.8-.78.8-2.07 0-2.86zM5.41 20L4 18.59l7.72-7.72 1.47 1.35L5.41 20z\"/>\n",
              "  </svg>\n",
              "      </button>\n",
              "      \n",
              "  <style>\n",
              "    .colab-df-container {\n",
              "      display:flex;\n",
              "      flex-wrap:wrap;\n",
              "      gap: 12px;\n",
              "    }\n",
              "\n",
              "    .colab-df-convert {\n",
              "      background-color: #E8F0FE;\n",
              "      border: none;\n",
              "      border-radius: 50%;\n",
              "      cursor: pointer;\n",
              "      display: none;\n",
              "      fill: #1967D2;\n",
              "      height: 32px;\n",
              "      padding: 0 0 0 0;\n",
              "      width: 32px;\n",
              "    }\n",
              "\n",
              "    .colab-df-convert:hover {\n",
              "      background-color: #E2EBFA;\n",
              "      box-shadow: 0px 1px 2px rgba(60, 64, 67, 0.3), 0px 1px 3px 1px rgba(60, 64, 67, 0.15);\n",
              "      fill: #174EA6;\n",
              "    }\n",
              "\n",
              "    [theme=dark] .colab-df-convert {\n",
              "      background-color: #3B4455;\n",
              "      fill: #D2E3FC;\n",
              "    }\n",
              "\n",
              "    [theme=dark] .colab-df-convert:hover {\n",
              "      background-color: #434B5C;\n",
              "      box-shadow: 0px 1px 3px 1px rgba(0, 0, 0, 0.15);\n",
              "      filter: drop-shadow(0px 1px 2px rgba(0, 0, 0, 0.3));\n",
              "      fill: #FFFFFF;\n",
              "    }\n",
              "  </style>\n",
              "\n",
              "      <script>\n",
              "        const buttonEl =\n",
              "          document.querySelector('#df-ee6b629b-6aab-44d1-a82c-5fa5b64bcc1c button.colab-df-convert');\n",
              "        buttonEl.style.display =\n",
              "          google.colab.kernel.accessAllowed ? 'block' : 'none';\n",
              "\n",
              "        async function convertToInteractive(key) {\n",
              "          const element = document.querySelector('#df-ee6b629b-6aab-44d1-a82c-5fa5b64bcc1c');\n",
              "          const dataTable =\n",
              "            await google.colab.kernel.invokeFunction('convertToInteractive',\n",
              "                                                     [key], {});\n",
              "          if (!dataTable) return;\n",
              "\n",
              "          const docLinkHtml = 'Like what you see? Visit the ' +\n",
              "            '<a target=\"_blank\" href=https://colab.research.google.com/notebooks/data_table.ipynb>data table notebook</a>'\n",
              "            + ' to learn more about interactive tables.';\n",
              "          element.innerHTML = '';\n",
              "          dataTable['output_type'] = 'display_data';\n",
              "          await google.colab.output.renderOutput(dataTable, element);\n",
              "          const docLink = document.createElement('div');\n",
              "          docLink.innerHTML = docLinkHtml;\n",
              "          element.appendChild(docLink);\n",
              "        }\n",
              "      </script>\n",
              "    </div>\n",
              "  </div>\n",
              "  "
            ]
          },
          "metadata": {},
          "execution_count": 6
        }
      ],
      "source": [
        "df.head()"
      ]
    },
    {
      "cell_type": "code",
      "source": [
        "nyc_taxi_df = df.drop(['id','pickup_datetime','dropoff_datetime','Dropoff_timezone','Pickup_timezone','store_and_fwd_flag','pickup_day','dropoff_day'], axis=1)\n",
        "nyc_taxi_df.head()"
      ],
      "metadata": {
        "id": "NgRNUFp-Ppdz",
        "colab": {
          "base_uri": "https://localhost:8080/",
          "height": 270
        },
        "outputId": "607637bd-1403-4afc-b67f-6d32b63559f6"
      },
      "execution_count": null,
      "outputs": [
        {
          "output_type": "execute_result",
          "data": {
            "text/plain": [
              "   vendor_id  passenger_count  pickup_longitude  pickup_latitude  \\\n",
              "0          2                1        -73.982155        40.767937   \n",
              "1          1                1        -73.980415        40.738564   \n",
              "2          2                1        -73.979027        40.763939   \n",
              "3          2                1        -74.010040        40.719971   \n",
              "4          2                1        -73.973053        40.793209   \n",
              "\n",
              "   dropoff_longitude  dropoff_latitude  trip_duration  pickup_weekday_num  \\\n",
              "0         -73.964630         40.765602            455                   0   \n",
              "1         -73.999481         40.731152            663                   6   \n",
              "2         -74.005333         40.710087           2124                   1   \n",
              "3         -74.012268         40.706718            429                   2   \n",
              "4         -73.972923         40.782520            435                   5   \n",
              "\n",
              "   month  pickup_hour  dropoff_hour  haversine_distance  manhattan_distance  \\\n",
              "0      3           17            17            1.498521            1.735433   \n",
              "1      6            0             0            1.805507            2.430506   \n",
              "2      1           11            12            6.385098            8.203575   \n",
              "3      4           19            19            1.485498            1.661331   \n",
              "4      3           13            13            1.188588            1.199457   \n",
              "\n",
              "   avg_speed_h  avg_speed_m  pickup_holidays  pickup_near_holiday  \n",
              "0    11.856428    13.730901                0                    0  \n",
              "1     9.803659    13.197318                0                    0  \n",
              "2    10.822201    13.904365                0                    1  \n",
              "3    12.465721    13.941241                0                    0  \n",
              "4     9.836594     9.926539                0                    0  "
            ],
            "text/html": [
              "\n",
              "  <div id=\"df-6ca9a115-9306-474b-a8b9-cf2dacb40580\">\n",
              "    <div class=\"colab-df-container\">\n",
              "      <div>\n",
              "<style scoped>\n",
              "    .dataframe tbody tr th:only-of-type {\n",
              "        vertical-align: middle;\n",
              "    }\n",
              "\n",
              "    .dataframe tbody tr th {\n",
              "        vertical-align: top;\n",
              "    }\n",
              "\n",
              "    .dataframe thead th {\n",
              "        text-align: right;\n",
              "    }\n",
              "</style>\n",
              "<table border=\"1\" class=\"dataframe\">\n",
              "  <thead>\n",
              "    <tr style=\"text-align: right;\">\n",
              "      <th></th>\n",
              "      <th>vendor_id</th>\n",
              "      <th>passenger_count</th>\n",
              "      <th>pickup_longitude</th>\n",
              "      <th>pickup_latitude</th>\n",
              "      <th>dropoff_longitude</th>\n",
              "      <th>dropoff_latitude</th>\n",
              "      <th>trip_duration</th>\n",
              "      <th>pickup_weekday_num</th>\n",
              "      <th>month</th>\n",
              "      <th>pickup_hour</th>\n",
              "      <th>dropoff_hour</th>\n",
              "      <th>haversine_distance</th>\n",
              "      <th>manhattan_distance</th>\n",
              "      <th>avg_speed_h</th>\n",
              "      <th>avg_speed_m</th>\n",
              "      <th>pickup_holidays</th>\n",
              "      <th>pickup_near_holiday</th>\n",
              "    </tr>\n",
              "  </thead>\n",
              "  <tbody>\n",
              "    <tr>\n",
              "      <th>0</th>\n",
              "      <td>2</td>\n",
              "      <td>1</td>\n",
              "      <td>-73.982155</td>\n",
              "      <td>40.767937</td>\n",
              "      <td>-73.964630</td>\n",
              "      <td>40.765602</td>\n",
              "      <td>455</td>\n",
              "      <td>0</td>\n",
              "      <td>3</td>\n",
              "      <td>17</td>\n",
              "      <td>17</td>\n",
              "      <td>1.498521</td>\n",
              "      <td>1.735433</td>\n",
              "      <td>11.856428</td>\n",
              "      <td>13.730901</td>\n",
              "      <td>0</td>\n",
              "      <td>0</td>\n",
              "    </tr>\n",
              "    <tr>\n",
              "      <th>1</th>\n",
              "      <td>1</td>\n",
              "      <td>1</td>\n",
              "      <td>-73.980415</td>\n",
              "      <td>40.738564</td>\n",
              "      <td>-73.999481</td>\n",
              "      <td>40.731152</td>\n",
              "      <td>663</td>\n",
              "      <td>6</td>\n",
              "      <td>6</td>\n",
              "      <td>0</td>\n",
              "      <td>0</td>\n",
              "      <td>1.805507</td>\n",
              "      <td>2.430506</td>\n",
              "      <td>9.803659</td>\n",
              "      <td>13.197318</td>\n",
              "      <td>0</td>\n",
              "      <td>0</td>\n",
              "    </tr>\n",
              "    <tr>\n",
              "      <th>2</th>\n",
              "      <td>2</td>\n",
              "      <td>1</td>\n",
              "      <td>-73.979027</td>\n",
              "      <td>40.763939</td>\n",
              "      <td>-74.005333</td>\n",
              "      <td>40.710087</td>\n",
              "      <td>2124</td>\n",
              "      <td>1</td>\n",
              "      <td>1</td>\n",
              "      <td>11</td>\n",
              "      <td>12</td>\n",
              "      <td>6.385098</td>\n",
              "      <td>8.203575</td>\n",
              "      <td>10.822201</td>\n",
              "      <td>13.904365</td>\n",
              "      <td>0</td>\n",
              "      <td>1</td>\n",
              "    </tr>\n",
              "    <tr>\n",
              "      <th>3</th>\n",
              "      <td>2</td>\n",
              "      <td>1</td>\n",
              "      <td>-74.010040</td>\n",
              "      <td>40.719971</td>\n",
              "      <td>-74.012268</td>\n",
              "      <td>40.706718</td>\n",
              "      <td>429</td>\n",
              "      <td>2</td>\n",
              "      <td>4</td>\n",
              "      <td>19</td>\n",
              "      <td>19</td>\n",
              "      <td>1.485498</td>\n",
              "      <td>1.661331</td>\n",
              "      <td>12.465721</td>\n",
              "      <td>13.941241</td>\n",
              "      <td>0</td>\n",
              "      <td>0</td>\n",
              "    </tr>\n",
              "    <tr>\n",
              "      <th>4</th>\n",
              "      <td>2</td>\n",
              "      <td>1</td>\n",
              "      <td>-73.973053</td>\n",
              "      <td>40.793209</td>\n",
              "      <td>-73.972923</td>\n",
              "      <td>40.782520</td>\n",
              "      <td>435</td>\n",
              "      <td>5</td>\n",
              "      <td>3</td>\n",
              "      <td>13</td>\n",
              "      <td>13</td>\n",
              "      <td>1.188588</td>\n",
              "      <td>1.199457</td>\n",
              "      <td>9.836594</td>\n",
              "      <td>9.926539</td>\n",
              "      <td>0</td>\n",
              "      <td>0</td>\n",
              "    </tr>\n",
              "  </tbody>\n",
              "</table>\n",
              "</div>\n",
              "      <button class=\"colab-df-convert\" onclick=\"convertToInteractive('df-6ca9a115-9306-474b-a8b9-cf2dacb40580')\"\n",
              "              title=\"Convert this dataframe to an interactive table.\"\n",
              "              style=\"display:none;\">\n",
              "        \n",
              "  <svg xmlns=\"http://www.w3.org/2000/svg\" height=\"24px\"viewBox=\"0 0 24 24\"\n",
              "       width=\"24px\">\n",
              "    <path d=\"M0 0h24v24H0V0z\" fill=\"none\"/>\n",
              "    <path d=\"M18.56 5.44l.94 2.06.94-2.06 2.06-.94-2.06-.94-.94-2.06-.94 2.06-2.06.94zm-11 1L8.5 8.5l.94-2.06 2.06-.94-2.06-.94L8.5 2.5l-.94 2.06-2.06.94zm10 10l.94 2.06.94-2.06 2.06-.94-2.06-.94-.94-2.06-.94 2.06-2.06.94z\"/><path d=\"M17.41 7.96l-1.37-1.37c-.4-.4-.92-.59-1.43-.59-.52 0-1.04.2-1.43.59L10.3 9.45l-7.72 7.72c-.78.78-.78 2.05 0 2.83L4 21.41c.39.39.9.59 1.41.59.51 0 1.02-.2 1.41-.59l7.78-7.78 2.81-2.81c.8-.78.8-2.07 0-2.86zM5.41 20L4 18.59l7.72-7.72 1.47 1.35L5.41 20z\"/>\n",
              "  </svg>\n",
              "      </button>\n",
              "      \n",
              "  <style>\n",
              "    .colab-df-container {\n",
              "      display:flex;\n",
              "      flex-wrap:wrap;\n",
              "      gap: 12px;\n",
              "    }\n",
              "\n",
              "    .colab-df-convert {\n",
              "      background-color: #E8F0FE;\n",
              "      border: none;\n",
              "      border-radius: 50%;\n",
              "      cursor: pointer;\n",
              "      display: none;\n",
              "      fill: #1967D2;\n",
              "      height: 32px;\n",
              "      padding: 0 0 0 0;\n",
              "      width: 32px;\n",
              "    }\n",
              "\n",
              "    .colab-df-convert:hover {\n",
              "      background-color: #E2EBFA;\n",
              "      box-shadow: 0px 1px 2px rgba(60, 64, 67, 0.3), 0px 1px 3px 1px rgba(60, 64, 67, 0.15);\n",
              "      fill: #174EA6;\n",
              "    }\n",
              "\n",
              "    [theme=dark] .colab-df-convert {\n",
              "      background-color: #3B4455;\n",
              "      fill: #D2E3FC;\n",
              "    }\n",
              "\n",
              "    [theme=dark] .colab-df-convert:hover {\n",
              "      background-color: #434B5C;\n",
              "      box-shadow: 0px 1px 3px 1px rgba(0, 0, 0, 0.15);\n",
              "      filter: drop-shadow(0px 1px 2px rgba(0, 0, 0, 0.3));\n",
              "      fill: #FFFFFF;\n",
              "    }\n",
              "  </style>\n",
              "\n",
              "      <script>\n",
              "        const buttonEl =\n",
              "          document.querySelector('#df-6ca9a115-9306-474b-a8b9-cf2dacb40580 button.colab-df-convert');\n",
              "        buttonEl.style.display =\n",
              "          google.colab.kernel.accessAllowed ? 'block' : 'none';\n",
              "\n",
              "        async function convertToInteractive(key) {\n",
              "          const element = document.querySelector('#df-6ca9a115-9306-474b-a8b9-cf2dacb40580');\n",
              "          const dataTable =\n",
              "            await google.colab.kernel.invokeFunction('convertToInteractive',\n",
              "                                                     [key], {});\n",
              "          if (!dataTable) return;\n",
              "\n",
              "          const docLinkHtml = 'Like what you see? Visit the ' +\n",
              "            '<a target=\"_blank\" href=https://colab.research.google.com/notebooks/data_table.ipynb>data table notebook</a>'\n",
              "            + ' to learn more about interactive tables.';\n",
              "          element.innerHTML = '';\n",
              "          dataTable['output_type'] = 'display_data';\n",
              "          await google.colab.output.renderOutput(dataTable, element);\n",
              "          const docLink = document.createElement('div');\n",
              "          docLink.innerHTML = docLinkHtml;\n",
              "          element.appendChild(docLink);\n",
              "        }\n",
              "      </script>\n",
              "    </div>\n",
              "  </div>\n",
              "  "
            ]
          },
          "metadata": {},
          "execution_count": 45
        }
      ]
    },
    {
      "cell_type": "markdown",
      "metadata": {
        "id": "_kRZCQWwWdas"
      },
      "source": [
        "* Let us remove the columns which are not important for further analysis.\n",
        "* Features such as id, timestamp and weekday were not assigned to X array because they are of type object. And we need an array of float data type for further analysis."
      ]
    },
    {
      "cell_type": "markdown",
      "metadata": {
        "id": "5NoI8vgpnCV3"
      },
      "source": [
        "# Normalization\n",
        " * It is suggested to scale the input varibles to standardise the variance and avoid the bias. \n",
        "\n"
      ]
    },
    {
      "cell_type": "code",
      "execution_count": null,
      "metadata": {
        "id": "mDPjHchl25mG"
      },
      "outputs": [],
      "source": [
        "X = nyc_taxi_df .drop(['trip_duration'], axis=1)\n",
        "y = np.log(df['trip_duration']).values"
      ]
    },
    {
      "cell_type": "code",
      "execution_count": null,
      "metadata": {
        "colab": {
          "base_uri": "https://localhost:8080/",
          "height": 206
        },
        "id": "HauzhaceFBk1",
        "outputId": "dd7b97cc-79e2-4ae4-80f2-d929c9f1c751"
      },
      "outputs": [
        {
          "output_type": "execute_result",
          "data": {
            "text/plain": [
              "         0         1         2         3         4         5         6   \\\n",
              "0  0.932380 -0.505637 -0.122261  0.517494  0.124369  0.384575 -1.561062   \n",
              "1 -1.072524 -0.505637 -0.097727 -0.375819 -0.368970 -0.575303  1.509502   \n",
              "2  0.932380 -0.505637 -0.078143  0.395910 -0.451805 -1.162220 -1.049301   \n",
              "3  0.932380 -0.505637 -0.515558 -0.941274 -0.549976 -1.256071 -0.537541   \n",
              "4  0.932380 -0.505637  0.006112  1.286091  0.006974  0.855957  0.997741   \n",
              "\n",
              "         7         8         9         10        11        12        13  \\\n",
              "0 -0.307440  0.530263  0.524563 -0.452072 -0.478549 -0.171376 -0.243832   \n",
              "1  1.477173 -2.126116 -2.097405 -0.380622 -0.355874 -0.308432 -0.270283   \n",
              "2 -1.497182 -0.407283 -0.246604  0.685258  0.663036 -0.240428 -0.235233   \n",
              "3  0.287431  0.842778  0.833030 -0.455103 -0.491628 -0.130695 -0.233405   \n",
              "4 -0.307440 -0.094768 -0.092371 -0.524207 -0.573146 -0.306233 -0.432422   \n",
              "\n",
              "         14        15  \n",
              "0 -0.137979 -0.192191  \n",
              "1 -0.137979 -0.192191  \n",
              "2 -0.137979  5.203170  \n",
              "3 -0.137979 -0.192191  \n",
              "4 -0.137979 -0.192191  "
            ],
            "text/html": [
              "\n",
              "  <div id=\"df-f3788c0f-e237-4ad2-bc49-c73d0b98dce2\">\n",
              "    <div class=\"colab-df-container\">\n",
              "      <div>\n",
              "<style scoped>\n",
              "    .dataframe tbody tr th:only-of-type {\n",
              "        vertical-align: middle;\n",
              "    }\n",
              "\n",
              "    .dataframe tbody tr th {\n",
              "        vertical-align: top;\n",
              "    }\n",
              "\n",
              "    .dataframe thead th {\n",
              "        text-align: right;\n",
              "    }\n",
              "</style>\n",
              "<table border=\"1\" class=\"dataframe\">\n",
              "  <thead>\n",
              "    <tr style=\"text-align: right;\">\n",
              "      <th></th>\n",
              "      <th>0</th>\n",
              "      <th>1</th>\n",
              "      <th>2</th>\n",
              "      <th>3</th>\n",
              "      <th>4</th>\n",
              "      <th>5</th>\n",
              "      <th>6</th>\n",
              "      <th>7</th>\n",
              "      <th>8</th>\n",
              "      <th>9</th>\n",
              "      <th>10</th>\n",
              "      <th>11</th>\n",
              "      <th>12</th>\n",
              "      <th>13</th>\n",
              "      <th>14</th>\n",
              "      <th>15</th>\n",
              "    </tr>\n",
              "  </thead>\n",
              "  <tbody>\n",
              "    <tr>\n",
              "      <th>0</th>\n",
              "      <td>0.932380</td>\n",
              "      <td>-0.505637</td>\n",
              "      <td>-0.122261</td>\n",
              "      <td>0.517494</td>\n",
              "      <td>0.124369</td>\n",
              "      <td>0.384575</td>\n",
              "      <td>-1.561062</td>\n",
              "      <td>-0.307440</td>\n",
              "      <td>0.530263</td>\n",
              "      <td>0.524563</td>\n",
              "      <td>-0.452072</td>\n",
              "      <td>-0.478549</td>\n",
              "      <td>-0.171376</td>\n",
              "      <td>-0.243832</td>\n",
              "      <td>-0.137979</td>\n",
              "      <td>-0.192191</td>\n",
              "    </tr>\n",
              "    <tr>\n",
              "      <th>1</th>\n",
              "      <td>-1.072524</td>\n",
              "      <td>-0.505637</td>\n",
              "      <td>-0.097727</td>\n",
              "      <td>-0.375819</td>\n",
              "      <td>-0.368970</td>\n",
              "      <td>-0.575303</td>\n",
              "      <td>1.509502</td>\n",
              "      <td>1.477173</td>\n",
              "      <td>-2.126116</td>\n",
              "      <td>-2.097405</td>\n",
              "      <td>-0.380622</td>\n",
              "      <td>-0.355874</td>\n",
              "      <td>-0.308432</td>\n",
              "      <td>-0.270283</td>\n",
              "      <td>-0.137979</td>\n",
              "      <td>-0.192191</td>\n",
              "    </tr>\n",
              "    <tr>\n",
              "      <th>2</th>\n",
              "      <td>0.932380</td>\n",
              "      <td>-0.505637</td>\n",
              "      <td>-0.078143</td>\n",
              "      <td>0.395910</td>\n",
              "      <td>-0.451805</td>\n",
              "      <td>-1.162220</td>\n",
              "      <td>-1.049301</td>\n",
              "      <td>-1.497182</td>\n",
              "      <td>-0.407283</td>\n",
              "      <td>-0.246604</td>\n",
              "      <td>0.685258</td>\n",
              "      <td>0.663036</td>\n",
              "      <td>-0.240428</td>\n",
              "      <td>-0.235233</td>\n",
              "      <td>-0.137979</td>\n",
              "      <td>5.203170</td>\n",
              "    </tr>\n",
              "    <tr>\n",
              "      <th>3</th>\n",
              "      <td>0.932380</td>\n",
              "      <td>-0.505637</td>\n",
              "      <td>-0.515558</td>\n",
              "      <td>-0.941274</td>\n",
              "      <td>-0.549976</td>\n",
              "      <td>-1.256071</td>\n",
              "      <td>-0.537541</td>\n",
              "      <td>0.287431</td>\n",
              "      <td>0.842778</td>\n",
              "      <td>0.833030</td>\n",
              "      <td>-0.455103</td>\n",
              "      <td>-0.491628</td>\n",
              "      <td>-0.130695</td>\n",
              "      <td>-0.233405</td>\n",
              "      <td>-0.137979</td>\n",
              "      <td>-0.192191</td>\n",
              "    </tr>\n",
              "    <tr>\n",
              "      <th>4</th>\n",
              "      <td>0.932380</td>\n",
              "      <td>-0.505637</td>\n",
              "      <td>0.006112</td>\n",
              "      <td>1.286091</td>\n",
              "      <td>0.006974</td>\n",
              "      <td>0.855957</td>\n",
              "      <td>0.997741</td>\n",
              "      <td>-0.307440</td>\n",
              "      <td>-0.094768</td>\n",
              "      <td>-0.092371</td>\n",
              "      <td>-0.524207</td>\n",
              "      <td>-0.573146</td>\n",
              "      <td>-0.306233</td>\n",
              "      <td>-0.432422</td>\n",
              "      <td>-0.137979</td>\n",
              "      <td>-0.192191</td>\n",
              "    </tr>\n",
              "  </tbody>\n",
              "</table>\n",
              "</div>\n",
              "      <button class=\"colab-df-convert\" onclick=\"convertToInteractive('df-f3788c0f-e237-4ad2-bc49-c73d0b98dce2')\"\n",
              "              title=\"Convert this dataframe to an interactive table.\"\n",
              "              style=\"display:none;\">\n",
              "        \n",
              "  <svg xmlns=\"http://www.w3.org/2000/svg\" height=\"24px\"viewBox=\"0 0 24 24\"\n",
              "       width=\"24px\">\n",
              "    <path d=\"M0 0h24v24H0V0z\" fill=\"none\"/>\n",
              "    <path d=\"M18.56 5.44l.94 2.06.94-2.06 2.06-.94-2.06-.94-.94-2.06-.94 2.06-2.06.94zm-11 1L8.5 8.5l.94-2.06 2.06-.94-2.06-.94L8.5 2.5l-.94 2.06-2.06.94zm10 10l.94 2.06.94-2.06 2.06-.94-2.06-.94-.94-2.06-.94 2.06-2.06.94z\"/><path d=\"M17.41 7.96l-1.37-1.37c-.4-.4-.92-.59-1.43-.59-.52 0-1.04.2-1.43.59L10.3 9.45l-7.72 7.72c-.78.78-.78 2.05 0 2.83L4 21.41c.39.39.9.59 1.41.59.51 0 1.02-.2 1.41-.59l7.78-7.78 2.81-2.81c.8-.78.8-2.07 0-2.86zM5.41 20L4 18.59l7.72-7.72 1.47 1.35L5.41 20z\"/>\n",
              "  </svg>\n",
              "      </button>\n",
              "      \n",
              "  <style>\n",
              "    .colab-df-container {\n",
              "      display:flex;\n",
              "      flex-wrap:wrap;\n",
              "      gap: 12px;\n",
              "    }\n",
              "\n",
              "    .colab-df-convert {\n",
              "      background-color: #E8F0FE;\n",
              "      border: none;\n",
              "      border-radius: 50%;\n",
              "      cursor: pointer;\n",
              "      display: none;\n",
              "      fill: #1967D2;\n",
              "      height: 32px;\n",
              "      padding: 0 0 0 0;\n",
              "      width: 32px;\n",
              "    }\n",
              "\n",
              "    .colab-df-convert:hover {\n",
              "      background-color: #E2EBFA;\n",
              "      box-shadow: 0px 1px 2px rgba(60, 64, 67, 0.3), 0px 1px 3px 1px rgba(60, 64, 67, 0.15);\n",
              "      fill: #174EA6;\n",
              "    }\n",
              "\n",
              "    [theme=dark] .colab-df-convert {\n",
              "      background-color: #3B4455;\n",
              "      fill: #D2E3FC;\n",
              "    }\n",
              "\n",
              "    [theme=dark] .colab-df-convert:hover {\n",
              "      background-color: #434B5C;\n",
              "      box-shadow: 0px 1px 3px 1px rgba(0, 0, 0, 0.15);\n",
              "      filter: drop-shadow(0px 1px 2px rgba(0, 0, 0, 0.3));\n",
              "      fill: #FFFFFF;\n",
              "    }\n",
              "  </style>\n",
              "\n",
              "      <script>\n",
              "        const buttonEl =\n",
              "          document.querySelector('#df-f3788c0f-e237-4ad2-bc49-c73d0b98dce2 button.colab-df-convert');\n",
              "        buttonEl.style.display =\n",
              "          google.colab.kernel.accessAllowed ? 'block' : 'none';\n",
              "\n",
              "        async function convertToInteractive(key) {\n",
              "          const element = document.querySelector('#df-f3788c0f-e237-4ad2-bc49-c73d0b98dce2');\n",
              "          const dataTable =\n",
              "            await google.colab.kernel.invokeFunction('convertToInteractive',\n",
              "                                                     [key], {});\n",
              "          if (!dataTable) return;\n",
              "\n",
              "          const docLinkHtml = 'Like what you see? Visit the ' +\n",
              "            '<a target=\"_blank\" href=https://colab.research.google.com/notebooks/data_table.ipynb>data table notebook</a>'\n",
              "            + ' to learn more about interactive tables.';\n",
              "          element.innerHTML = '';\n",
              "          dataTable['output_type'] = 'display_data';\n",
              "          await google.colab.output.renderOutput(dataTable, element);\n",
              "          const docLink = document.createElement('div');\n",
              "          docLink.innerHTML = docLinkHtml;\n",
              "          element.appendChild(docLink);\n",
              "        }\n",
              "      </script>\n",
              "    </div>\n",
              "  </div>\n",
              "  "
            ]
          },
          "metadata": {},
          "execution_count": 48
        }
      ],
      "source": [
        "# Normalizing the Dataset using Standard Scaling Technique.\n",
        "\n",
        "scaler=StandardScaler()\n",
        "scaler.fit(X)\n",
        "scaler_data = scaler.transform(X)\n",
        "new_df=pd.DataFrame(scaler_data)\n",
        "new_df.head()"
      ]
    },
    {
      "cell_type": "markdown",
      "metadata": {
        "id": "gBm2VwhwbMpS"
      },
      "source": [
        "* Above , we had considered 17 as a required number of components and extracted new features by transforming the Data.\n"
      ]
    },
    {
      "cell_type": "markdown",
      "metadata": {
        "id": "zOTdo4BWQgdx"
      },
      "source": [
        "# Building Model\n",
        "* We need a model to train on our dataset to serve our purpose of prediciting the NYC taxi trip duration given the other features as training and test set. Since our dependent variable contains continous values so we will use regression technique to predict our output\n",
        "\n"
      ]
    },
    {
      "cell_type": "markdown",
      "metadata": {
        "id": "46q1EEu6ZOX7"
      },
      "source": [
        "# Splitting the data in train and test sets\n",
        "* To begin with , Linear Regression is a good approach, by splitting our Data into Training and Testing (30%)."
      ]
    },
    {
      "cell_type": "code",
      "source": [
        "X=new_df\n",
        "y= np.log(nyc_taxi_df['trip_duration']).values\n"
      ],
      "metadata": {
        "id": "Y3IhOdbCS6F1"
      },
      "execution_count": null,
      "outputs": []
    },
    {
      "cell_type": "code",
      "source": [
        "X_train, X_test, y_train, y_test = train_test_split(X, y, test_size=0.30, random_state=10)\n",
        "X_train.shape, X_test.shape, y_train.shape, y_test.shape\n"
      ],
      "metadata": {
        "id": "iqTaLLQ5S6JB",
        "colab": {
          "base_uri": "https://localhost:8080/"
        },
        "outputId": "ea090c72-b518-40ed-a021-2ed0b939a43a"
      },
      "execution_count": null,
      "outputs": [
        {
          "output_type": "execute_result",
          "data": {
            "text/plain": [
              "((1021050, 16), (437594, 16), (1021050,), (437594,))"
            ]
          },
          "metadata": {},
          "execution_count": 50
        }
      ]
    },
    {
      "cell_type": "markdown",
      "source": [
        "#Linear Regression"
      ],
      "metadata": {
        "id": "EOeNtJOjwJPC"
      }
    },
    {
      "cell_type": "code",
      "source": [
        "#Importing Linear Regression\n",
        "regressor = LinearRegression()\n",
        "y_=regressor.fit(X_train, y_train)\n",
        "#Making prediction\n",
        "y_pred = regressor.predict(X_test)\n",
        "y_pred"
      ],
      "metadata": {
        "id": "0h7pNwNCdVZ5",
        "colab": {
          "base_uri": "https://localhost:8080/"
        },
        "outputId": "c7fab1e8-57ec-4ae5-f279-1a9e640e3199"
      },
      "execution_count": null,
      "outputs": [
        {
          "output_type": "execute_result",
          "data": {
            "text/plain": [
              "array([6.25852354, 6.72906906, 6.1101255 , ..., 6.41059273, 6.66540026,\n",
              "       6.5148183 ])"
            ]
          },
          "metadata": {},
          "execution_count": 51
        }
      ]
    },
    {
      "cell_type": "code",
      "source": [
        "regressor.intercept_, regressor.coef_"
      ],
      "metadata": {
        "id": "h_tapQWevHuz",
        "colab": {
          "base_uri": "https://localhost:8080/"
        },
        "outputId": "a6232efa-9504-4c05-8d88-f64b9e6019bb"
      },
      "execution_count": null,
      "outputs": [
        {
          "output_type": "execute_result",
          "data": {
            "text/plain": [
              "(6.464340646637436,\n",
              " array([ 9.92916200e-03,  7.88872099e-03, -8.33948837e-02,  3.17945959e-02,\n",
              "         5.48857197e-02, -3.28798634e-02, -1.44250684e-02,  1.78608149e-02,\n",
              "         5.33716130e-04,  2.41044575e-02,  2.80404235e+00, -2.15284499e+00,\n",
              "        -2.56509316e+00,  2.26364317e+00, -1.68334612e-02, -6.01895415e-03]))"
            ]
          },
          "metadata": {},
          "execution_count": 52
        }
      ]
    },
    {
      "cell_type": "markdown",
      "source": [
        "**Model** **Evaluation**"
      ],
      "metadata": {
        "id": "N37pIPM9vG7w"
      }
    },
    {
      "cell_type": "code",
      "source": [
        "#Evaluate the regressor on the Feature selection group\n",
        "t_lgt= regressor.score(X_train, y_train)\n",
        "print (\"Training Score : \" , t_lgt)\n",
        "\n",
        "v_lgt=regressor.score(X_test, y_test)\n",
        "print (\"Validation Score : \", v_lgt)\n",
        "\n",
        "cv_lgt=cross_val_score(regressor, X_train, y_train, cv=5).mean()\n",
        "print (\"Cross Validation Score : \" , cv_lgt)\n",
        "\n",
        "r2_lgt=  r2_score( y_test, y_pred)\n",
        "print (\"R2_Score : \",r2_lgt)\n",
        "\n",
        "rmse_lgt=np.sqrt(mean_squared_error(y_test, y_pred))\n",
        "print (\"RMSE :\",rmse_lgt)"
      ],
      "metadata": {
        "id": "ytsK9gRCdVcj",
        "colab": {
          "base_uri": "https://localhost:8080/"
        },
        "outputId": "d6cba30b-475c-458f-fd4e-cbdd08b74ee8"
      },
      "execution_count": null,
      "outputs": [
        {
          "output_type": "stream",
          "name": "stdout",
          "text": [
            "Training Score :  0.48565837175003357\n",
            "Validation Score :  0.49097250892167243\n",
            "Cross Validation Score :  0.40892962713859154\n",
            "R2_Score :  0.49097250892167243\n",
            "RMSE : 0.5693808013118592\n"
          ]
        }
      ]
    },
    {
      "cell_type": "markdown",
      "source": [],
      "metadata": {
        "id": "yw4Wxm8FvS41"
      }
    },
    {
      "cell_type": "code",
      "source": [
        "from sklearn.metrics import mean_squared_log_error\n",
        "y_null = np.zeros_like(y_test, dtype=float)\n",
        "y_null.fill(y_test.mean())\n",
        "print (\"Null RMSLE : \", np.sqrt(mean_squared_log_error(y_test, y_null)))"
      ],
      "metadata": {
        "id": "HiDmB4ICw25A",
        "colab": {
          "base_uri": "https://localhost:8080/"
        },
        "outputId": "902dcb14-e441-4d71-add4-8d824ac6994b"
      },
      "execution_count": null,
      "outputs": [
        {
          "output_type": "stream",
          "name": "stdout",
          "text": [
            "Null RMSLE :  0.11464018891653321\n"
          ]
        }
      ]
    },
    {
      "cell_type": "code",
      "source": [
        "#prediction vs real data\n",
        "plt.figure(figsize=(15,8))\n",
        "plt.subplot(1,1,1)\n",
        "sns.distplot(y_test, kde=False, color=\"r\", label=\"Test\")\n",
        "\n",
        "plt.subplot(1,1,1)\n",
        "sns.distplot(y_pred, kde=False, color=\"g\", label=\"Prediction\")\n",
        "plt.legend()\n",
        "plt.title(\"Test VS Prediction\")"
      ],
      "metadata": {
        "id": "yWgVtsmvjJVa",
        "colab": {
          "base_uri": "https://localhost:8080/",
          "height": 606
        },
        "outputId": "807fc11d-391f-4f38-f48c-7c8170d12d39"
      },
      "execution_count": null,
      "outputs": [
        {
          "output_type": "stream",
          "name": "stderr",
          "text": [
            "/usr/local/lib/python3.7/dist-packages/seaborn/distributions.py:2619: FutureWarning: `distplot` is a deprecated function and will be removed in a future version. Please adapt your code to use either `displot` (a figure-level function with similar flexibility) or `histplot` (an axes-level function for histograms).\n",
            "  warnings.warn(msg, FutureWarning)\n",
            "/usr/local/lib/python3.7/dist-packages/ipykernel_launcher.py:6: MatplotlibDeprecationWarning: Adding an axes using the same arguments as a previous axes currently reuses the earlier instance.  In a future version, a new instance will always be created and returned.  Meanwhile, this warning can be suppressed, and the future behavior ensured, by passing a unique label to each axes instance.\n",
            "  \n"
          ]
        },
        {
          "output_type": "execute_result",
          "data": {
            "text/plain": [
              "Text(0.5, 1.0, 'Test VS Prediction')"
            ]
          },
          "metadata": {},
          "execution_count": 57
        },
        {
          "output_type": "display_data",
          "data": {
            "text/plain": [
              "<Figure size 1080x576 with 1 Axes>"
            ],
            "image/png": "[encoded data removed]"
          },
          "metadata": {
            "needs_background": "light"
          }
        }
      ]
    },
    {
      "cell_type": "markdown",
      "source": [
        "* From the above Viz. we can clearly identify that the Linear Regression isn't performing good. The Actual Data (in red) and Predicted values (in green) are so much differing. We can conclude that Linear Regression doesn't seem like a right choice for Trip duration prediction."
      ],
      "metadata": {
        "id": "ojzEuhr0lCDP"
      }
    },
    {
      "cell_type": "markdown",
      "source": [
        "* Let's see if we can improve this further with the other algorigthm "
      ],
      "metadata": {
        "id": "i3R7mXcRvY2L"
      }
    },
    {
      "cell_type": "markdown",
      "source": [
        "#Decision Tree"
      ],
      "metadata": {
        "id": "-Z7SqRRvlR-K"
      }
    },
    {
      "cell_type": "code",
      "source": [
        "R_dt = DecisionTreeRegressor(criterion=\"mse\", max_depth=10)\n",
        "R_dt.fit(X_train, y_train)\n",
        "dt_pred = R_dt.predict(X_test)\n",
        "dt_pred"
      ],
      "metadata": {
        "id": "pqt0sHaRdVfJ",
        "colab": {
          "base_uri": "https://localhost:8080/"
        },
        "outputId": "ba8f3dbf-8d86-4bb9-fdf9-d2098751aeab"
      },
      "execution_count": null,
      "outputs": [
        {
          "output_type": "stream",
          "name": "stderr",
          "text": [
            "/usr/local/lib/python3.7/dist-packages/sklearn/tree/_classes.py:363: FutureWarning: Criterion 'mse' was deprecated in v1.0 and will be removed in version 1.2. Use `criterion='squared_error'` which is equivalent.\n",
            "  FutureWarning,\n"
          ]
        },
        {
          "output_type": "execute_result",
          "data": {
            "text/plain": [
              "array([6.47418433, 7.58509926, 6.21304216, ..., 7.06029736, 7.57652488,\n",
              "       6.56443524])"
            ]
          },
          "metadata": {},
          "execution_count": 58
        }
      ]
    },
    {
      "cell_type": "code",
      "source": [
        "#examining metrics\n",
        "t_dt= R_dt.score(X_train, y_train)\n",
        "print (\"Training Score : \" ,t_dt)\n",
        "\n",
        "v_dt= R_dt.score(X_test, y_test)\n",
        "print (\"Validation Score : \", R_dt.score(X_test, y_test))\n",
        "\n",
        "cv_dt= cross_val_score(R_dt, X_train, y_train, cv=5).mean()\n",
        "print (\"Cross Validation Score : \" , cv_dt)\n",
        "\n",
        "r2_dt=r2_score( y_test, dt_pred)\n",
        "print (\"R2_Score : \", r2_dt)\n",
        "\n",
        "rmse_dt=np.sqrt(mean_squared_error(y_test, dt_pred))\n",
        "print (\"RMSE :\" ,rmse_dt)\n",
        "\n",
        "rmsl_=np.sqrt(mean_squared_log_error(dt_pred, y_test))\n",
        "print (\"RMSLE : \",rmsl_)"
      ],
      "metadata": {
        "id": "QciXdiztdViC",
        "colab": {
          "base_uri": "https://localhost:8080/"
        },
        "outputId": "d7fdcfc8-a698-4dc9-9a31-e31fad5c5aba"
      },
      "execution_count": null,
      "outputs": [
        {
          "output_type": "stream",
          "name": "stdout",
          "text": [
            "Training Score :  0.9762168380763555\n",
            "Validation Score :  0.9754015891450172\n"
          ]
        },
        {
          "output_type": "stream",
          "name": "stderr",
          "text": [
            "/usr/local/lib/python3.7/dist-packages/sklearn/tree/_classes.py:363: FutureWarning: Criterion 'mse' was deprecated in v1.0 and will be removed in version 1.2. Use `criterion='squared_error'` which is equivalent.\n",
            "  FutureWarning,\n",
            "/usr/local/lib/python3.7/dist-packages/sklearn/tree/_classes.py:363: FutureWarning: Criterion 'mse' was deprecated in v1.0 and will be removed in version 1.2. Use `criterion='squared_error'` which is equivalent.\n",
            "  FutureWarning,\n",
            "/usr/local/lib/python3.7/dist-packages/sklearn/tree/_classes.py:363: FutureWarning: Criterion 'mse' was deprecated in v1.0 and will be removed in version 1.2. Use `criterion='squared_error'` which is equivalent.\n",
            "  FutureWarning,\n",
            "/usr/local/lib/python3.7/dist-packages/sklearn/tree/_classes.py:363: FutureWarning: Criterion 'mse' was deprecated in v1.0 and will be removed in version 1.2. Use `criterion='squared_error'` which is equivalent.\n",
            "  FutureWarning,\n",
            "/usr/local/lib/python3.7/dist-packages/sklearn/tree/_classes.py:363: FutureWarning: Criterion 'mse' was deprecated in v1.0 and will be removed in version 1.2. Use `criterion='squared_error'` which is equivalent.\n",
            "  FutureWarning,\n"
          ]
        },
        {
          "output_type": "stream",
          "name": "stdout",
          "text": [
            "Cross Validation Score :  0.9751568529080193\n",
            "R2_Score :  0.9754015891450172\n",
            "RMSE : 0.12516581335010787\n",
            "RMSLE :  0.024213628193141285\n"
          ]
        }
      ]
    },
    {
      "cell_type": "code",
      "source": [
        "print (\"RMSLE : \", np.sqrt(mean_squared_log_error(dt_pred, y_test)))"
      ],
      "metadata": {
        "id": "jp-9GRDahyQq",
        "colab": {
          "base_uri": "https://localhost:8080/"
        },
        "outputId": "f227e59c-5eac-4449-9872-9d24be0a6466"
      },
      "execution_count": null,
      "outputs": [
        {
          "output_type": "stream",
          "name": "stdout",
          "text": [
            "RMSLE :  0.024213628193141285\n"
          ]
        }
      ]
    },
    {
      "cell_type": "code",
      "source": [
        "#prediction vs real data\n",
        "plt.figure(figsize=(15,8))\n",
        "plt.subplot(1,1,1)\n",
        "sns.distplot(y_test, kde=False, color=\"black\", label=\"Test\")\n",
        "\n",
        "plt.subplot(1,1,1)\n",
        "sns.distplot(dt_pred, kde=False, color=\"cyan\", label=\"Prediction\")\n",
        "plt.legend()\n",
        "plt.title(\"Test VS Prediction\")"
      ],
      "metadata": {
        "id": "DffC19h5jhho",
        "colab": {
          "base_uri": "https://localhost:8080/",
          "height": 606
        },
        "outputId": "4b32f69e-2bd5-4bc7-d507-89f16e475b5e"
      },
      "execution_count": null,
      "outputs": [
        {
          "output_type": "stream",
          "name": "stderr",
          "text": [
            "/usr/local/lib/python3.7/dist-packages/seaborn/distributions.py:2619: FutureWarning: `distplot` is a deprecated function and will be removed in a future version. Please adapt your code to use either `displot` (a figure-level function with similar flexibility) or `histplot` (an axes-level function for histograms).\n",
            "  warnings.warn(msg, FutureWarning)\n",
            "/usr/local/lib/python3.7/dist-packages/ipykernel_launcher.py:6: MatplotlibDeprecationWarning: Adding an axes using the same arguments as a previous axes currently reuses the earlier instance.  In a future version, a new instance will always be created and returned.  Meanwhile, this warning can be suppressed, and the future behavior ensured, by passing a unique label to each axes instance.\n",
            "  \n"
          ]
        },
        {
          "output_type": "execute_result",
          "data": {
            "text/plain": [
              "Text(0.5, 1.0, 'Test VS Prediction')"
            ]
          },
          "metadata": {},
          "execution_count": 61
        },
        {
          "output_type": "display_data",
          "data": {
            "text/plain": [
              "<Figure size 1080x576 with 1 Axes>"
            ],
            "image/png": "[encoded data removed]"
          },
          "metadata": {
            "needs_background": "light"
          }
        }
      ]
    },
    {
      "cell_type": "markdown",
      "source": [
        "* There is approx 200% improvement on the R2 score for the Decision tree regressor over the Linear regressor of the feature selection group.\n",
        "* From the above Viz. we can clearly identify that the Decision Tree Algorithm is performing good. The Actual Data (in Grey) and Predicted values (in Red) are as close as possible. We can conclude that Decision Tree could be a good choice for Trip duration prediction but "
      ],
      "metadata": {
        "id": "vqmW-u_lqPAO"
      }
    },
    {
      "cell_type": "markdown",
      "source": [
        "* Let's see if we can improve this further with the other algorigthm."
      ],
      "metadata": {
        "id": "iQvUcsY9vn5e"
      }
    },
    {
      "cell_type": "markdown",
      "source": [
        "#Random Forest"
      ],
      "metadata": {
        "id": "ejULwx_DrnLN"
      }
    },
    {
      "cell_type": "code",
      "source": [
        "from sklearn.ensemble import RandomForestRegressor\n",
        "\n",
        "\n",
        "est_rf = RandomForestRegressor(criterion=\"mse\", n_estimators=5, max_depth=10)\n",
        "est_rf.fit(X_train, y_train)\n",
        "rf_pred = est_rf.predict(X_test)\n",
        "rf_pred\n"
      ],
      "metadata": {
        "id": "Es5LSndzdVlb",
        "colab": {
          "base_uri": "https://localhost:8080/"
        },
        "outputId": "8f105634-1b14-4128-b07b-9c42f41c3029"
      },
      "execution_count": null,
      "outputs": [
        {
          "output_type": "stream",
          "name": "stderr",
          "text": [
            "/usr/local/lib/python3.7/dist-packages/sklearn/ensemble/_forest.py:400: FutureWarning: Criterion 'mse' was deprecated in v1.0 and will be removed in version 1.2. Use `criterion='squared_error'` which is equivalent.\n",
            "  FutureWarning,\n"
          ]
        },
        {
          "output_type": "execute_result",
          "data": {
            "text/plain": [
              "array([6.48481086, 7.53135161, 6.19754512, ..., 7.07843563, 7.60757225,\n",
              "       6.56952434])"
            ]
          },
          "metadata": {},
          "execution_count": 62
        }
      ]
    },
    {
      "cell_type": "markdown",
      "source": [
        "Model Evaluation\n",
        "\n"
      ],
      "metadata": {
        "id": "4iEG-3qiy-dR"
      }
    },
    {
      "cell_type": "code",
      "source": [
        "#examining metrics\n",
        "t_rf=est_rf.score(X_train, y_train)\n",
        "print (\"Training Score : \" , t_rf)\n",
        "\n",
        "v_rf=est_rf.score(X_test, y_test)\n",
        "print (\"Validation Score : \", v_rf)\n",
        "\n",
        "cv_rf=cross_val_score(est_rf, X_train, y_train, cv=5).mean()\n",
        "print (\"Cross Validation Score : \" , cv_rf)\n",
        "\n",
        "r2_rf=r2_score(rf_pred, y_test)\n",
        "print (\"R2_Score : \", r2_rf)\n",
        "\n",
        "rmse_rf=np.sqrt(mean_squared_error(y_test, rf_pred))\n",
        "print (\"RMSE :\" ,rmse_rf)\n",
        "\n",
        "rmsle_rf=np.sqrt(mean_squared_log_error(rf_pred, y_test))\n",
        "print (\"RMSLE : \", rmsle_rf)"
      ],
      "metadata": {
        "id": "f0VNzfNxhHPN",
        "colab": {
          "base_uri": "https://localhost:8080/"
        },
        "outputId": "bf506fe7-ad25-4be1-8f12-ce4c0d5b0d56"
      },
      "execution_count": null,
      "outputs": [
        {
          "output_type": "stream",
          "name": "stdout",
          "text": [
            "Training Score :  0.9800486841745676\n",
            "Validation Score :  0.9794268440323047\n"
          ]
        },
        {
          "output_type": "stream",
          "name": "stderr",
          "text": [
            "/usr/local/lib/python3.7/dist-packages/sklearn/ensemble/_forest.py:400: FutureWarning: Criterion 'mse' was deprecated in v1.0 and will be removed in version 1.2. Use `criterion='squared_error'` which is equivalent.\n",
            "  FutureWarning,\n",
            "/usr/local/lib/python3.7/dist-packages/sklearn/ensemble/_forest.py:400: FutureWarning: Criterion 'mse' was deprecated in v1.0 and will be removed in version 1.2. Use `criterion='squared_error'` which is equivalent.\n",
            "  FutureWarning,\n",
            "/usr/local/lib/python3.7/dist-packages/sklearn/ensemble/_forest.py:400: FutureWarning: Criterion 'mse' was deprecated in v1.0 and will be removed in version 1.2. Use `criterion='squared_error'` which is equivalent.\n",
            "  FutureWarning,\n",
            "/usr/local/lib/python3.7/dist-packages/sklearn/ensemble/_forest.py:400: FutureWarning: Criterion 'mse' was deprecated in v1.0 and will be removed in version 1.2. Use `criterion='squared_error'` which is equivalent.\n",
            "  FutureWarning,\n",
            "/usr/local/lib/python3.7/dist-packages/sklearn/ensemble/_forest.py:400: FutureWarning: Criterion 'mse' was deprecated in v1.0 and will be removed in version 1.2. Use `criterion='squared_error'` which is equivalent.\n",
            "  FutureWarning,\n"
          ]
        },
        {
          "output_type": "stream",
          "name": "stdout",
          "text": [
            "Cross Validation Score :  0.9791267810399468\n",
            "R2_Score :  0.9788385653752051\n",
            "RMSE : 0.11446762170820399\n",
            "RMSLE :  0.022953491674509698\n"
          ]
        }
      ]
    },
    {
      "cell_type": "code",
      "source": [
        "#prediction vs real data\n",
        "plt.figure(figsize=(15,8))\n",
        "plt.subplot(1,1,1)\n",
        "sns.distplot(y_test, kde=False, color=\"black\", label=\"Test\")\n",
        "\n",
        "plt.subplot(1,1,1)\n",
        "sns.distplot(rf_pred, kde=False, color=\"indigo\", label=\"Prediction\")\n",
        "plt.legend()\n",
        "plt.title(\"Test VS Prediction\")"
      ],
      "metadata": {
        "id": "K1_lO8NehHeQ",
        "colab": {
          "base_uri": "https://localhost:8080/",
          "height": 606
        },
        "outputId": "7b563cec-33e8-4759-a75e-acedf700e564"
      },
      "execution_count": null,
      "outputs": [
        {
          "output_type": "stream",
          "name": "stderr",
          "text": [
            "/usr/local/lib/python3.7/dist-packages/seaborn/distributions.py:2619: FutureWarning: `distplot` is a deprecated function and will be removed in a future version. Please adapt your code to use either `displot` (a figure-level function with similar flexibility) or `histplot` (an axes-level function for histograms).\n",
            "  warnings.warn(msg, FutureWarning)\n",
            "/usr/local/lib/python3.7/dist-packages/ipykernel_launcher.py:6: MatplotlibDeprecationWarning: Adding an axes using the same arguments as a previous axes currently reuses the earlier instance.  In a future version, a new instance will always be created and returned.  Meanwhile, this warning can be suppressed, and the future behavior ensured, by passing a unique label to each axes instance.\n",
            "  \n"
          ]
        },
        {
          "output_type": "execute_result",
          "data": {
            "text/plain": [
              "Text(0.5, 1.0, 'Test VS Prediction')"
            ]
          },
          "metadata": {},
          "execution_count": 66
        },
        {
          "output_type": "display_data",
          "data": {
            "text/plain": [
              "<Figure size 1080x576 with 1 Axes>"
            ],
            "image/png": "[encoded data removed]"
          },
          "metadata": {
            "needs_background": "light"
          }
        }
      ]
    },
    {
      "cell_type": "markdown",
      "source": [
        "* From the above Viz. we can clearly identify that the Random Tree Algorithm is performing good. The Actual Data (in Grey) and Predicted values (in purple) are as close as possible. We can conclude that random forest could be a good choice for Trip duration prediction.\n",
        "* The performance of Random Forest is also better than Linear regressor and somewhat similar to the decision tree but There is slight difference in r2 score and rmsle value."
      ],
      "metadata": {
        "id": "F5JWQ5_dqMX3"
      }
    },
    {
      "cell_type": "markdown",
      "source": [
        "# CONCLUSION ON MODEL TRAINING\n",
        "* At the end we conclude our project with 3 models namely Linear Regression, Decision Tree and Random Forest.\n",
        "* Decision Tree and Random Forest both model giving us a good score but One problem that might occur with Decision Tree is that it can overfit.\n",
        "* It gets overfitted on training data which couldn't predict well on unseen data.\n",
        "* A random forest chooses few number of rows at random and interprets results from all the Tress and combines it to get more accurate and stable final result.\n",
        "* Among this Random Forest performs the best on our dataset as we saw that the RMSLE values came out to be the least for the same."
      ],
      "metadata": {
        "id": "GY40iq4dIbMg"
      }
    }
  ],
  "metadata": {
    "colab": {
      "provenance": [],
      "collapsed_sections": [
        "zOTdo4BWQgdx"
      ],
      "include_colab_link": true
    },
    "kernelspec": {
      "display_name": "Python 3",
      "language": "python",
      "name": "python3"
    },
    "language_info": {
      "codemirror_mode": {
        "name": "ipython",
        "version": 3
      },
      "file_extension": ".py",
      "mimetype": "text/x-python",
      "name": "python",
      "nbconvert_exporter": "python",
      "pygments_lexer": "ipython3",
      "version": "3.6.6"
    }
  },
  "nbformat": 4,
  "nbformat_minor": 0
}